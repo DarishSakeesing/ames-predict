{
 "cells": [
  {
   "cell_type": "code",
   "execution_count": 1,
   "metadata": {},
   "outputs": [],
   "source": [
    "import sys\n",
    "sys.path.append('..')\n",
    "import pandas as pd\n",
    "import numpy as np\n",
    "import matplotlib.pyplot as plt\n",
    "plt.style.use('ggplot')\n",
    "%matplotlib inline\n",
    "from sklearn.linear_model import LinearRegression, Lasso, ElasticNet\n",
    "from sklearn.model_selection import GridSearchCV\n",
    "from sklearn.metrics import mean_squared_error\n",
    "from sklearn.pipeline import Pipeline, make_pipeline\n",
    "from sklearn.preprocessing import StandardScaler\n",
    "from sklearn.preprocessing import OneHotEncoder\n",
    "from sklearn.impute import SimpleImputer\n",
    "from sklearn.compose import ColumnTransformer\n",
    "from sklearn.model_selection import train_test_split"
   ]
  },
  {
   "cell_type": "code",
   "execution_count": 3,
   "metadata": {},
   "outputs": [],
   "source": [
    "import CustomPipeline as cp\n",
    "imputedHousingData=cp.clean('./data/Ames_Housing_Price_Data.csv')\n",
    "imputedHousingData.to_csv(\"./data/Ames_Housing_Price_Data_Imputed.csv\")\n",
    "pd.set_option('display.max_columns',None)\n",
    "pd.set_option('display.max_rows',None)"
   ]
  },
  {
   "cell_type": "code",
   "execution_count": 15,
   "metadata": {},
   "outputs": [],
   "source": [
    "features=list(imputedHousingData.columns)\n",
    "features.remove(\"PID\")\n",
    "features.remove(\"SalePrice\")\n",
    "\n",
    "X=imputedHousingData[features]\n",
    "y=np.log(imputedHousingData['SalePrice'])\n",
    "XTrain, XTest, ytrain, ytest = train_test_split(X, y)\n"
   ]
  },
  {
   "cell_type": "code",
   "execution_count": 16,
   "metadata": {},
   "outputs": [],
   "source": [
    "scaler = StandardScaler()\n",
    "X_std = scaler.fit_transform(X)\n",
    "XTrain, XTest, ytrain, ytest = train_test_split(X_std, y)"
   ]
  },
  {
   "cell_type": "code",
   "execution_count": 17,
   "metadata": {},
   "outputs": [
    {
     "name": "stdout",
     "output_type": "stream",
     "text": [
      "0.9232158906168022\n"
     ]
    },
    {
     "data": {
      "text/plain": [
       "Index(['GrLivArea', 'OverallQual', 'YearBuilt', 'OverallCond', 'BsmtFinSF1',\n",
       "       'TotalBsmtSF', 'GarageCars', '1stFlrSF', 'ExterQual', 'YearRemodAdd',\n",
       "       'MSZoning_C', 'LotArea', 'MSZoning_RM', 'Neighborhood_Crawfor',\n",
       "       'BldgType_1Fam', 'Neighborhood_Somerst', 'BsmtExposure',\n",
       "       'MSSubClass_30', 'BsmtQual', 'Fireplaces', 'Condition1_Norm',\n",
       "       'GarageArea', 'Neighborhood_MeadowV', 'Neighborhood_NridgHt',\n",
       "       'Functional', 'Foundation', 'PavedDrive', 'ScreenPorch', 'FireplaceQu',\n",
       "       'BsmtFullBath', 'BldgType_Twnhs', 'MSSubClass_160',\n",
       "       'Neighborhood_StoneBr', 'Exterior1st', 'MSSubClass_90',\n",
       "       'Neighborhood_ClearCr', 'NewHome', 'LotFrontage', 'BsmtFinType1',\n",
       "       'Neighborhood_Edwards', 'Neighborhood_NWAmes', 'MSZoning_RH',\n",
       "       'BsmtFinSF2', 'GarageCond', 'GarageFinish', 'Condition1_Feedr',\n",
       "       'RoofStyle', 'LotConfig_CulDSac', 'Condition1_PosN', 'BldgType_Duplex',\n",
       "       'Condition1_Artery', 'KitchenAbvGr', 'HalfBath', 'GarageType',\n",
       "       'Neighborhood_NoRidge', 'ModernElectrical', 'LandContour_HLS', 'MoSold',\n",
       "       'WoodDeckSF'],\n",
       "      dtype='object')"
      ]
     },
     "execution_count": 17,
     "metadata": {},
     "output_type": "execute_result"
    }
   ],
   "source": [
    "lasso=Lasso()\n",
    "lasso=Lasso()\n",
    "lasso.set_params(alpha=0.0001, max_iter=10000, normalize=True)\n",
    "lasso.fit(XTrain,ytrain)\n",
    "print(lasso.score(XTrain,ytrain))\n",
    "lassoCoef = pd.Series(lasso.coef_, index=features)\n",
    "sortedCoefs = np.abs(lassoCoef).sort_values(ascending=False)\n",
    "features_to_keep_lasso=sortedCoefs[sortedCoefs!=0].index\n",
    "features_to_keep_lasso"
   ]
  },
  {
   "cell_type": "code",
   "execution_count": 9,
   "metadata": {},
   "outputs": [
    {
     "name": "stdout",
     "output_type": "stream",
     "text": [
      "{'alpha': 0.00010200000000000001}\n",
      "0.8968481277437937\n"
     ]
    }
   ],
   "source": [
    "alphas = np.linspace(0.000001,0.01,100)\n",
    "params = [{'alpha': alphas}]\n",
    "grid2=GridSearchCV(estimator=lasso,param_grid=params, return_train_score=True)\n",
    "grid2.fit(XTrain,ytrain)\n",
    "print(grid2.best_params_)\n",
    "print(grid2.score(XTest,ytest))"
   ]
  },
  {
   "cell_type": "code",
   "execution_count": 18,
   "metadata": {},
   "outputs": [
    {
     "data": {
      "text/plain": [
       "<matplotlib.legend.Legend at 0x7ff8415abd90>"
      ]
     },
     "execution_count": 18,
     "metadata": {},
     "output_type": "execute_result"
    },
    {
     "data": {
      "image/png": "[encoded data removed]",
      "text/plain": [
       "<Figure size 432x288 with 1 Axes>"
      ]
     },
     "metadata": {
      "needs_background": "light"
     },
     "output_type": "display_data"
    }
   ],
   "source": [
    "train_R2 = []\n",
    "test_R2  = []\n",
    "alphaRange = np.linspace(0.000001,0.01,50)\n",
    "for alpha in alphaRange:\n",
    "    lasso.set_params(alpha=alpha, max_iter=10000)  \n",
    "    lasso.fit(XTrain, ytrain)\n",
    "    train_R2.append(lasso.score(XTrain, ytrain))\n",
    "    test_R2.append(lasso.score(XTest, ytest))\n",
    "plt.plot(alphaRange, train_R2, label=r'train set $R^2$')\n",
    "plt.plot(alphaRange, test_R2, label=r'test set $R^2$')\n",
    "plt.legend(loc=4)"
   ]
  },
  {
   "cell_type": "code",
   "execution_count": 35,
   "metadata": {},
   "outputs": [
    {
     "data": {
      "text/plain": [
       "Index(['const', 'GrLivArea', 'LotArea', 'OverallQual', 'OverallCond',\n",
       "       'YearBuilt', 'YearRemodAdd', 'Exterior1st', 'Exterior2nd', 'ExterQual',\n",
       "       'Foundation', 'BsmtExposure', 'BsmtFinType1', 'BsmtFinSF1',\n",
       "       'TotalBsmtSF', 'CentralAir', '1stFlrSF', '2ndFlrSF', 'BsmtFullBath',\n",
       "       'BedroomAbvGr', 'TotRmsAbvGrd', 'Functional', 'GarageCars',\n",
       "       'GarageQual', 'PavedDrive', 'EnclosedPorch', 'ScreenPorch',\n",
       "       'MSSubClass_20', 'MSSubClass_30', 'MSSubClass_40', 'MSSubClass_45',\n",
       "       'MSSubClass_50', 'MSSubClass_60', 'MSSubClass_70', 'MSSubClass_75',\n",
       "       'MSSubClass_80', 'MSSubClass_85', 'MSSubClass_90', 'MSSubClass_120',\n",
       "       'MSZoning_A', 'MSZoning_C', 'MSZoning_FV', 'MSZoning_I', 'MSZoning_RH',\n",
       "       'MSZoning_RL', 'MSZoning_RM', 'Street_Grvl', 'Street_Pave',\n",
       "       'LandContour_Low', 'LandContour_HLS', 'LandContour_Bnk',\n",
       "       'LandContour_Lvl', 'LotConfig_Inside', 'LotConfig_Corner',\n",
       "       'LotConfig_CulDSac', 'LotConfig_FR2', 'LotConfig_FR3',\n",
       "       'Condition1_Artery', 'Condition1_Feedr', 'Condition1_Norm',\n",
       "       'Condition1_RRNn', 'Condition1_RRAn', 'Condition1_PosN',\n",
       "       'Condition1_PosA', 'Condition1_RRNe', 'Condition1_RRAe',\n",
       "       'Condition2_Artery', 'Condition2_Feedr', 'Condition2_Norm',\n",
       "       'Condition2_RRNn', 'Condition2_RRAn', 'Condition2_PosA',\n",
       "       'Condition2_RRAe', 'BldgType_TwnhsE', 'BldgType_Twnhs',\n",
       "       'BldgType_Duplex', 'BldgType_2FmCon', 'BldgType_1Fam',\n",
       "       'Neighborhood_Blueste', 'Neighborhood_BrDale', 'Neighborhood_BrkSide',\n",
       "       'Neighborhood_ClearCr', 'Neighborhood_CollgCr', 'Neighborhood_Crawfor',\n",
       "       'Neighborhood_Gilbert', 'Neighborhood_IDOTRR', 'Neighborhood_Mitchel',\n",
       "       'Neighborhood_NAmes', 'Neighborhood_NoRidge', 'Neighborhood_NPkVill',\n",
       "       'Neighborhood_NridgHt', 'Neighborhood_OldTown', 'Neighborhood_Sawyer',\n",
       "       'Neighborhood_SawyerW', 'Neighborhood_Somerst', 'Neighborhood_StoneBr',\n",
       "       'Neighborhood_Timber', 'Neighborhood_Veenker'],\n",
       "      dtype='object')"
      ]
     },
     "execution_count": 35,
     "metadata": {},
     "output_type": "execute_result"
    }
   ],
   "source": [
    "import statsmodels.api as sm\n",
    "from statsmodels.api import OLS\n",
    "features = sm.add_constant(XTrain)\n",
    "ols_sm   = OLS(ytrain, features)\n",
    "model    = ols_sm.fit()\n",
    "model.pvalues[model.pvalues <0.05].index\n",
    "pvalue_significant_features=model.pvalues[model.pvalues <0.05].index\n",
    "pvalue_significant_features"
   ]
  }
 ],
 "metadata": {
  "kernelspec": {
   "display_name": "Python 3",
   "language": "python",
   "name": "python3"
  },
  "language_info": {
   "codemirror_mode": {
    "name": "ipython",
    "version": 3
   },
   "file_extension": ".py",
   "mimetype": "text/x-python",
   "name": "python",
   "nbconvert_exporter": "python",
   "pygments_lexer": "ipython3",
   "version": "3.8.5"
  }
 },
 "nbformat": 4,
 "nbformat_minor": 4
}
