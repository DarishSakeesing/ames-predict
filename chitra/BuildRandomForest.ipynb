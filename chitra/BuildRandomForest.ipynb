{
 "cells": [
  {
   "cell_type": "code",
   "execution_count": 1,
   "metadata": {},
   "outputs": [],
   "source": [
    "import sys\n",
    "sys.path.append('..')\n",
    "import pandas as pd\n",
    "import numpy as np\n",
    "import matplotlib.pyplot as plt\n",
    "plt.style.use('ggplot')\n",
    "%matplotlib inline\n",
    "from sklearn.linear_model import LinearRegression, Lasso, ElasticNet\n",
    "from sklearn.model_selection import GridSearchCV\n",
    "from sklearn.metrics import mean_squared_error\n",
    "from sklearn.pipeline import Pipeline, make_pipeline\n",
    "from sklearn.preprocessing import StandardScaler\n",
    "from sklearn.preprocessing import OneHotEncoder\n",
    "from sklearn.impute import SimpleImputer\n",
    "from sklearn.compose import ColumnTransformer\n",
    "from sklearn.model_selection import train_test_split\n",
    "import CustomPipeline as cp"
   ]
  },
  {
   "cell_type": "code",
   "execution_count": 20,
   "metadata": {},
   "outputs": [],
   "source": [
    "housingData = pd.read_csv('./data/Ames_Housing_Price_Data.csv')\n",
    "housingData.drop('Unnamed: 0', axis=1, inplace=True)\n",
    "train, test = np.split(housingData.sample(frac=1, random_state=42), [int(.9*len(housingData))])\n",
    "train.to_csv('./data/trainData.csv')\n",
    "test.to_csv('./data/testData.csv')\n",
    "trainData=cp.clean('./data/trainData.csv')\n",
    "testData=cp.clean('./data/testData.csv')\n",
    "pd.set_option('display.max_columns',None)\n",
    "pd.set_option('display.max_rows',None)\n",
    "\n",
    "features=list(trainData.columns)\n",
    "features.remove(\"PID\")\n",
    "features.remove(\"SalePrice\")\n",
    "XTrain=trainData[features]\n",
    "yTrain=np.log(trainData['SalePrice'])\n",
    "XTest=testData[features]\n",
    "yTest=np.log(testData['SalePrice'])"
   ]
  },
  {
   "cell_type": "code",
   "execution_count": 21,
   "metadata": {},
   "outputs": [
    {
     "data": {
      "text/plain": [
       "RandomForestRegressor(random_state=42)"
      ]
     },
     "execution_count": 21,
     "metadata": {},
     "output_type": "execute_result"
    }
   ],
   "source": [
    "from sklearn.ensemble import RandomForestRegressor \n",
    "rf=RandomForestRegressor(n_estimators = 100, random_state = 42) \n",
    "rf.fit(XTrain,yTrain)"
   ]
  },
  {
   "cell_type": "code",
   "execution_count": 27,
   "metadata": {},
   "outputs": [
    {
     "data": {
      "text/plain": [
       "OverallQual             5.543526e-01\n",
       "GrLivArea               8.482950e-02\n",
       "GarageArea              6.543389e-02\n",
       "GarageCars              4.347122e-02\n",
       "TotalBsmtSF             3.775953e-02\n",
       "1stFlrSF                3.078101e-02\n",
       "BsmtFinSF1              1.359797e-02\n",
       "FullBath                1.297862e-02\n",
       "LotArea                 1.234731e-02\n",
       "YearBuilt               1.046886e-02\n",
       "YearRemodAdd            9.830200e-03\n",
       "OverallCond             9.722761e-03\n",
       "GarageType              6.745590e-03\n",
       "BsmtQual                6.415922e-03\n",
       "GarageYrBlt             6.276332e-03\n",
       "LotFrontage             6.153536e-03\n",
       "BsmtFinType1            5.566699e-03\n",
       "OpenPorchSF             5.463243e-03\n",
       "BsmtUnfSF               4.852099e-03\n",
       "MasVnrArea              4.635824e-03\n",
       "2ndFlrSF                4.063824e-03\n",
       "FireplaceQu             3.755354e-03\n",
       "MSZoning_RM             3.470030e-03\n",
       "MoSold                  2.981522e-03\n",
       "MSSubClass_30           2.637849e-03\n",
       "WoodDeckSF              2.601651e-03\n",
       "Fireplaces              2.160113e-03\n",
       "GarageFinish            2.158666e-03\n",
       "ExterQual               2.072559e-03\n",
       "ExterCond               1.919988e-03\n",
       "Exterior1st             1.876752e-03\n",
       "YrSold                  1.806949e-03\n",
       "EnclosedPorch           1.749623e-03\n",
       "Exterior2nd             1.695221e-03\n",
       "TotRmsAbvGrd            1.582081e-03\n",
       "BldgType_1Fam           1.479639e-03\n",
       "BsmtExposure            1.464699e-03\n",
       "Neighborhood_Crawfor    1.354329e-03\n",
       "GarageCond              1.341537e-03\n",
       "BedroomAbvGr            1.256310e-03\n",
       "Foundation              1.231428e-03\n",
       "BsmtFullBath            1.110491e-03\n",
       "KitchenAbvGr            1.044072e-03\n",
       "BsmtCond                1.006437e-03\n",
       "PavedDrive              9.940571e-04\n",
       "ScreenPorch             9.246708e-04\n",
       "Fence                   7.448030e-04\n",
       "LotShape                7.185965e-04\n",
       "MSSubClass_20           6.807350e-04\n",
       "HalfBath                6.673100e-04\n",
       "RoofStyle               6.380398e-04\n",
       "HouseStyle              6.334911e-04\n",
       "MSZoning_RL             6.254222e-04\n",
       "LandContour_Lvl         6.099090e-04\n",
       "Neighborhood_Edwards    6.076598e-04\n",
       "GarageQual              5.557293e-04\n",
       "Alley                   5.198378e-04\n",
       "Condition1_Norm         5.025684e-04\n",
       "ModernElectrical        4.997416e-04\n",
       "Neighborhood_OldTown    4.942091e-04\n",
       "Functional              4.938036e-04\n",
       "BsmtFinSF2              4.595473e-04\n",
       "MSZoning_C              3.863666e-04\n",
       "LandSlope               3.824343e-04\n",
       "MasVnrType              3.755829e-04\n",
       "Condition1_Artery       3.240584e-04\n",
       "LotConfig_Corner        3.177666e-04\n",
       "LotConfig_Inside        3.166008e-04\n",
       "LandContour_Bnk         2.953221e-04\n",
       "Neighborhood_IDOTRR     2.941651e-04\n",
       "MSZoning_RH             2.666974e-04\n",
       "BsmtFinType2            2.627052e-04\n",
       "MSSubClass_60           2.623172e-04\n",
       "Neighborhood_NoRidge    2.597481e-04\n",
       "Neighborhood_NAmes      2.482849e-04\n",
       "NewHome                 2.390261e-04\n",
       "Neighborhood_NWAmes     2.253059e-04\n",
       "Neighborhood_Sawyer     2.064147e-04\n",
       "LandContour_HLS         1.978778e-04\n",
       "MSSubClass_50           1.957107e-04\n",
       "Condition1_RRAe         1.951879e-04\n",
       "MSSubClass_190          1.770829e-04\n",
       "Neighborhood_CollgCr    1.770814e-04\n",
       "LotConfig_CulDSac       1.595790e-04\n",
       "Neighborhood_Somerst    1.580999e-04\n",
       "Neighborhood_BrkSide    1.502837e-04\n",
       "Condition1_Feedr        1.490616e-04\n",
       "3SsnPorch               1.386124e-04\n",
       "MSSubClass_70           1.369188e-04\n",
       "BsmtHalfBath            1.343574e-04\n",
       "Neighborhood_SawyerW    1.185619e-04\n",
       "LotConfig_FR2           1.161825e-04\n",
       "LowQualFinSF            1.133523e-04\n",
       "MSSubClass_80           1.051919e-04\n",
       "Neighborhood_SWISU      9.666358e-05\n",
       "MiscVal                 9.423843e-05\n",
       "LandContour_Low         8.900371e-05\n",
       "Neighborhood_ClearCr    8.611135e-05\n",
       "Neighborhood_StoneBr    8.439179e-05\n",
       "Neighborhood_Mitchel    7.847216e-05\n",
       "Neighborhood_NPkVill    7.262860e-05\n",
       "Street_Pave             7.157759e-05\n",
       "MSSubClass_160          7.082088e-05\n",
       "Condition1_RRAn         7.004734e-05\n",
       "BldgType_Duplex         6.952141e-05\n",
       "Neighborhood_Veenker    6.917434e-05\n",
       "Neighborhood_Gilbert    6.576797e-05\n",
       "Neighborhood_NridgHt    6.567930e-05\n",
       "Condition2_Norm         6.465445e-05\n",
       "MSSubClass_90           6.240536e-05\n",
       "BldgType_TwnhsE         6.205146e-05\n",
       "Condition2_PosN         6.164645e-05\n",
       "MSZoning_FV             6.094016e-05\n",
       "Condition1_PosA         5.942271e-05\n",
       "Neighborhood_Timber     5.842066e-05\n",
       "MSSubClass_75           4.727944e-05\n",
       "RoofMatl                4.720958e-05\n",
       "Condition1_RRNn         4.672570e-05\n",
       "Condition1_PosN         4.139898e-05\n",
       "MiscFeature             3.980844e-05\n",
       "MSSubClass_85           3.871526e-05\n",
       "BldgType_2FmCon         3.522934e-05\n",
       "MSSubClass_120          3.387332e-05\n",
       "LotConfig_FR3           3.245848e-05\n",
       "BldgType_Twnhs          2.939379e-05\n",
       "MSSubClass_40           1.715483e-05\n",
       "PoolArea                1.667161e-05\n",
       "Neighborhood_BrDale     1.431647e-05\n",
       "GasHeating              1.156960e-05\n",
       "Condition2_Feedr        1.127867e-05\n",
       "MSSubClass_180          1.100349e-05\n",
       "MSSubClass_45           1.065984e-05\n",
       "PoolQC                  1.034921e-05\n",
       "Neighborhood_MeadowV    7.657694e-06\n",
       "Neighborhood_Blmngtn    4.316902e-06\n",
       "Condition2_RRNn         3.729550e-06\n",
       "Utilities               3.446593e-06\n",
       "Condition1_RRNe         3.011765e-06\n",
       "Street_Grvl             2.991955e-06\n",
       "MSZoning_A              2.940411e-06\n",
       "MSZoning_I              2.005523e-06\n",
       "Neighborhood_Blueste    8.953380e-07\n",
       "Condition2_PosA         2.402868e-07\n",
       "Condition2_RRAn         7.996359e-08\n",
       "Condition2_Artery       4.821530e-08\n",
       "MSZoning_RP             0.000000e+00\n",
       "GoodHeating             0.000000e+00\n",
       "GoodKitchen             0.000000e+00\n",
       "NormalSale              0.000000e+00\n",
       "BldgType_TwnhsI         0.000000e+00\n",
       "Condition2_RRAe         0.000000e+00\n",
       "Condition2_RRNe         0.000000e+00\n",
       "CentralAir              0.000000e+00\n",
       "MSSubClass_150          0.000000e+00\n",
       "dtype: float64"
      ]
     },
     "execution_count": 27,
     "metadata": {},
     "output_type": "execute_result"
    }
   ],
   "source": [
    "feat_imp = pd.Series(rf.feature_importances_, index=XTrain.columns)\n",
    "feat_imp.sort_values(ascending=False)"
   ]
  },
  {
   "cell_type": "code",
   "execution_count": 37,
   "metadata": {},
   "outputs": [],
   "source": [
    "pred=rf.predict(XTest)"
   ]
  },
  {
   "cell_type": "code",
   "execution_count": 38,
   "metadata": {},
   "outputs": [
    {
     "data": {
      "text/plain": [
       "0.97681988719092"
      ]
     },
     "execution_count": 38,
     "metadata": {},
     "output_type": "execute_result"
    }
   ],
   "source": [
    "from sklearn import metrics\n",
    "metrics.r2_score(yTest, pred)"
   ]
  }
 ],
 "metadata": {
  "kernelspec": {
   "display_name": "Python 3",
   "language": "python",
   "name": "python3"
  },
  "language_info": {
   "codemirror_mode": {
    "name": "ipython",
    "version": 3
   },
   "file_extension": ".py",
   "mimetype": "text/x-python",
   "name": "python",
   "nbconvert_exporter": "python",
   "pygments_lexer": "ipython3",
   "version": "3.8.5"
  }
 },
 "nbformat": 4,
 "nbformat_minor": 4
}
