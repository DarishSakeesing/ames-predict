{
 "cells": [
  {
   "cell_type": "code",
   "execution_count": 3,
   "metadata": {},
   "outputs": [],
   "source": [
    "import sys\n",
    "sys.path.append('..')\n",
    "import pandas as pd\n",
    "import numpy as np\n",
    "import matplotlib.pyplot as plt\n",
    "from sklearn.linear_model import LinearRegression, Lasso, ElasticNet\n",
    "from sklearn.model_selection import GridSearchCV\n",
    "from sklearn import metrics\n",
    "import CustomPipeline as cp\n",
    "from sklearn.model_selection import GridSearchCV, KFold\n",
    "import seaborn as sns"
   ]
  },
  {
   "cell_type": "code",
   "execution_count": 4,
   "metadata": {},
   "outputs": [],
   "source": [
    "housingData = pd.read_csv('./data/Ames_Housing_Price_Data.csv')\n",
    "housingData.drop('Unnamed: 0', axis=1, inplace=True)\n",
    "train, test = np.split(housingData.sample(frac=1, random_state=42), [int(.9*len(housingData))])\n",
    "train.to_csv('./data/trainData.csv')\n",
    "test.to_csv('./data/testData.csv')\n",
    "trainData=cp.clean('./data/trainData.csv')\n",
    "testData=cp.clean('./data/testData.csv')\n",
    "pd.set_option('display.max_columns',None)\n",
    "pd.set_option('display.max_rows',None)\n",
    "\n",
    "features=list(trainData.columns)\n",
    "features.remove(\"PID\")\n",
    "features.remove(\"SalePrice\")\n",
    "XTrain=trainData[features]\n",
    "yTrain=np.log(trainData['SalePrice'])\n",
    "XTest=testData[features]\n",
    "yTest=np.log(testData['SalePrice'])"
   ]
  },
  {
   "cell_type": "code",
   "execution_count": 5,
   "metadata": {},
   "outputs": [
    {
     "data": {
      "text/plain": [
       "RandomForestRegressor(random_state=42)"
      ]
     },
     "execution_count": 5,
     "metadata": {},
     "output_type": "execute_result"
    }
   ],
   "source": [
    "from sklearn.ensemble import RandomForestRegressor \n",
    "rf=RandomForestRegressor(n_estimators = 100, random_state = 42) \n",
    "rf.fit(XTrain,yTrain)"
   ]
  },
  {
   "cell_type": "code",
   "execution_count": 6,
   "metadata": {},
   "outputs": [
    {
     "data": {
      "text/plain": [
       "OverallQual             5.543526e-01\n",
       "GrLivArea               8.482950e-02\n",
       "GarageArea              6.543389e-02\n",
       "GarageCars              4.347122e-02\n",
       "TotalBsmtSF             3.775953e-02\n",
       "1stFlrSF                3.078101e-02\n",
       "BsmtFinSF1              1.359797e-02\n",
       "FullBath                1.297862e-02\n",
       "LotArea                 1.234731e-02\n",
       "YearBuilt               1.046886e-02\n",
       "YearRemodAdd            9.830200e-03\n",
       "OverallCond             9.722761e-03\n",
       "GarageType              6.745590e-03\n",
       "BsmtQual                6.415922e-03\n",
       "GarageYrBlt             6.276332e-03\n",
       "LotFrontage             6.153536e-03\n",
       "BsmtFinType1            5.566699e-03\n",
       "OpenPorchSF             5.463243e-03\n",
       "BsmtUnfSF               4.852099e-03\n",
       "MasVnrArea              4.635824e-03\n",
       "2ndFlrSF                4.063824e-03\n",
       "FireplaceQu             3.755354e-03\n",
       "MSZoning_RM             3.470030e-03\n",
       "MoSold                  2.981522e-03\n",
       "MSSubClass_30           2.637849e-03\n",
       "WoodDeckSF              2.601651e-03\n",
       "Fireplaces              2.160113e-03\n",
       "GarageFinish            2.158666e-03\n",
       "ExterQual               2.072559e-03\n",
       "ExterCond               1.919988e-03\n",
       "Exterior1st             1.876752e-03\n",
       "YrSold                  1.806949e-03\n",
       "EnclosedPorch           1.749623e-03\n",
       "Exterior2nd             1.695221e-03\n",
       "TotRmsAbvGrd            1.582081e-03\n",
       "BldgType_1Fam           1.479639e-03\n",
       "BsmtExposure            1.464699e-03\n",
       "Neighborhood_Crawfor    1.354329e-03\n",
       "GarageCond              1.341537e-03\n",
       "BedroomAbvGr            1.256310e-03\n",
       "Foundation              1.231428e-03\n",
       "BsmtFullBath            1.110491e-03\n",
       "KitchenAbvGr            1.044072e-03\n",
       "BsmtCond                1.006437e-03\n",
       "PavedDrive              9.940571e-04\n",
       "ScreenPorch             9.246708e-04\n",
       "Fence                   7.448030e-04\n",
       "LotShape                7.185965e-04\n",
       "MSSubClass_20           6.807350e-04\n",
       "HalfBath                6.673100e-04\n",
       "RoofStyle               6.380398e-04\n",
       "HouseStyle              6.334911e-04\n",
       "MSZoning_RL             6.254222e-04\n",
       "LandContour_Lvl         6.099090e-04\n",
       "Neighborhood_Edwards    6.076598e-04\n",
       "GarageQual              5.557293e-04\n",
       "Alley                   5.198378e-04\n",
       "Condition1_Norm         5.025684e-04\n",
       "ModernElectrical        4.997416e-04\n",
       "Neighborhood_OldTown    4.942091e-04\n",
       "Functional              4.938036e-04\n",
       "BsmtFinSF2              4.595473e-04\n",
       "MSZoning_C              3.863666e-04\n",
       "LandSlope               3.824343e-04\n",
       "MasVnrType              3.755829e-04\n",
       "Condition1_Artery       3.240584e-04\n",
       "LotConfig_Corner        3.177666e-04\n",
       "LotConfig_Inside        3.166008e-04\n",
       "LandContour_Bnk         2.953221e-04\n",
       "Neighborhood_IDOTRR     2.941651e-04\n",
       "MSZoning_RH             2.666974e-04\n",
       "BsmtFinType2            2.627052e-04\n",
       "MSSubClass_60           2.623172e-04\n",
       "Neighborhood_NoRidge    2.597481e-04\n",
       "Neighborhood_NAmes      2.482849e-04\n",
       "NewHome                 2.390261e-04\n",
       "Neighborhood_NWAmes     2.253059e-04\n",
       "Neighborhood_Sawyer     2.064147e-04\n",
       "LandContour_HLS         1.978778e-04\n",
       "MSSubClass_50           1.957107e-04\n",
       "Condition1_RRAe         1.951879e-04\n",
       "MSSubClass_190          1.770829e-04\n",
       "Neighborhood_CollgCr    1.770814e-04\n",
       "LotConfig_CulDSac       1.595790e-04\n",
       "Neighborhood_Somerst    1.580999e-04\n",
       "Neighborhood_BrkSide    1.502837e-04\n",
       "Condition1_Feedr        1.490616e-04\n",
       "3SsnPorch               1.386124e-04\n",
       "MSSubClass_70           1.369188e-04\n",
       "BsmtHalfBath            1.343574e-04\n",
       "Neighborhood_SawyerW    1.185619e-04\n",
       "LotConfig_FR2           1.161825e-04\n",
       "LowQualFinSF            1.133523e-04\n",
       "MSSubClass_80           1.051919e-04\n",
       "Neighborhood_SWISU      9.666358e-05\n",
       "MiscVal                 9.423843e-05\n",
       "LandContour_Low         8.900371e-05\n",
       "Neighborhood_ClearCr    8.611135e-05\n",
       "Neighborhood_StoneBr    8.439179e-05\n",
       "Neighborhood_Mitchel    7.847216e-05\n",
       "Neighborhood_NPkVill    7.262860e-05\n",
       "Street_Pave             7.157759e-05\n",
       "MSSubClass_160          7.082088e-05\n",
       "Condition1_RRAn         7.004734e-05\n",
       "BldgType_Duplex         6.952141e-05\n",
       "Neighborhood_Veenker    6.917434e-05\n",
       "Neighborhood_Gilbert    6.576797e-05\n",
       "Neighborhood_NridgHt    6.567930e-05\n",
       "Condition2_Norm         6.465445e-05\n",
       "MSSubClass_90           6.240536e-05\n",
       "BldgType_TwnhsE         6.205146e-05\n",
       "Condition2_PosN         6.164645e-05\n",
       "MSZoning_FV             6.094016e-05\n",
       "Condition1_PosA         5.942271e-05\n",
       "Neighborhood_Timber     5.842066e-05\n",
       "MSSubClass_75           4.727944e-05\n",
       "RoofMatl                4.720958e-05\n",
       "Condition1_RRNn         4.672570e-05\n",
       "Condition1_PosN         4.139898e-05\n",
       "MiscFeature             3.980844e-05\n",
       "MSSubClass_85           3.871526e-05\n",
       "BldgType_2FmCon         3.522934e-05\n",
       "MSSubClass_120          3.387332e-05\n",
       "LotConfig_FR3           3.245848e-05\n",
       "BldgType_Twnhs          2.939379e-05\n",
       "MSSubClass_40           1.715483e-05\n",
       "PoolArea                1.667161e-05\n",
       "Neighborhood_BrDale     1.431647e-05\n",
       "GasHeating              1.156960e-05\n",
       "Condition2_Feedr        1.127867e-05\n",
       "MSSubClass_180          1.100349e-05\n",
       "MSSubClass_45           1.065984e-05\n",
       "PoolQC                  1.034921e-05\n",
       "Neighborhood_MeadowV    7.657694e-06\n",
       "Neighborhood_Blmngtn    4.316902e-06\n",
       "Condition2_RRNn         3.729550e-06\n",
       "Utilities               3.446593e-06\n",
       "Condition1_RRNe         3.011765e-06\n",
       "Street_Grvl             2.991955e-06\n",
       "MSZoning_A              2.940411e-06\n",
       "MSZoning_I              2.005523e-06\n",
       "Neighborhood_Blueste    8.953380e-07\n",
       "Condition2_PosA         2.402868e-07\n",
       "Condition2_RRAn         7.996359e-08\n",
       "Condition2_Artery       4.821530e-08\n",
       "MSZoning_RP             0.000000e+00\n",
       "GoodHeating             0.000000e+00\n",
       "GoodKitchen             0.000000e+00\n",
       "NormalSale              0.000000e+00\n",
       "BldgType_TwnhsI         0.000000e+00\n",
       "Condition2_RRAe         0.000000e+00\n",
       "Condition2_RRNe         0.000000e+00\n",
       "CentralAir              0.000000e+00\n",
       "MSSubClass_150          0.000000e+00\n",
       "dtype: float64"
      ]
     },
     "execution_count": 6,
     "metadata": {},
     "output_type": "execute_result"
    }
   ],
   "source": [
    "feat_imp = pd.Series(rf.feature_importances_, index=XTrain.columns)\n",
    "feat_imp.sort_values(ascending=False)"
   ]
  },
  {
   "cell_type": "code",
   "execution_count": 7,
   "metadata": {},
   "outputs": [],
   "source": [
    "predY=rf.predict(XTest)"
   ]
  },
  {
   "cell_type": "code",
   "execution_count": 8,
   "metadata": {},
   "outputs": [
    {
     "data": {
      "text/plain": [
       "0.9181684549504069"
      ]
     },
     "execution_count": 8,
     "metadata": {},
     "output_type": "execute_result"
    }
   ],
   "source": [
    "metrics.r2_score(yTest, predY)"
   ]
  },
  {
   "cell_type": "code",
   "execution_count": 9,
   "metadata": {},
   "outputs": [
    {
     "data": {
      "text/plain": [
       "GridSearchCV(cv=KFold(n_splits=5, random_state=None, shuffle=True),\n",
       "             estimator=RandomForestRegressor(random_state=42),\n",
       "             param_grid={'ccp_alpha': [0, 0.5, 1],\n",
       "                         'min_samples_leaf': [1, 2, 5, 10],\n",
       "                         'n_estimators': [10, 50, 100]},\n",
       "             return_train_score=True)"
      ]
     },
     "execution_count": 9,
     "metadata": {},
     "output_type": "execute_result"
    }
   ],
   "source": [
    "params = {'ccp_alpha': [0,0.5,1],'n_estimators':[10,50,100],'min_samples_leaf':[1,2,5,10]}\n",
    "\n",
    "cv = KFold(n_splits=5, shuffle=True)\n",
    "\n",
    "grid = GridSearchCV(estimator=rf,param_grid=params,cv=cv,return_train_score=True)\n",
    "grid.fit(XTrain,yTrain)"
   ]
  },
  {
   "cell_type": "code",
   "execution_count": 10,
   "metadata": {},
   "outputs": [
    {
     "data": {
      "text/plain": [
       "{'ccp_alpha': 0, 'min_samples_leaf': 2, 'n_estimators': 100}"
      ]
     },
     "execution_count": 10,
     "metadata": {},
     "output_type": "execute_result"
    }
   ],
   "source": [
    "grid.best_params_"
   ]
  },
  {
   "cell_type": "code",
   "execution_count": 11,
   "metadata": {},
   "outputs": [
    {
     "data": {
      "text/plain": [
       "RandomForestRegressor(ccp_alpha=0, min_samples_leaf=2, random_state=42)"
      ]
     },
     "execution_count": 11,
     "metadata": {},
     "output_type": "execute_result"
    }
   ],
   "source": [
    "rfmod=RandomForestRegressor(n_estimators = 100, random_state = 42, ccp_alpha=0, min_samples_leaf=2) \n",
    "rfmod.fit(XTrain,yTrain)"
   ]
  },
  {
   "cell_type": "code",
   "execution_count": 12,
   "metadata": {},
   "outputs": [
    {
     "data": {
      "text/plain": [
       "OverallQual             5.621970e-01\n",
       "GrLivArea               8.495340e-02\n",
       "GarageArea              6.228725e-02\n",
       "GarageCars              4.362516e-02\n",
       "TotalBsmtSF             3.802971e-02\n",
       "1stFlrSF                3.052583e-02\n",
       "BsmtFinSF1              1.342684e-02\n",
       "FullBath                1.305381e-02\n",
       "LotArea                 1.229462e-02\n",
       "YearRemodAdd            1.099934e-02\n",
       "YearBuilt               1.036058e-02\n",
       "OverallCond             9.583586e-03\n",
       "GarageType              6.750060e-03\n",
       "GarageYrBlt             6.599581e-03\n",
       "BsmtQual                6.415483e-03\n",
       "LotFrontage             6.228683e-03\n",
       "BsmtUnfSF               5.383676e-03\n",
       "BsmtFinType1            5.352621e-03\n",
       "OpenPorchSF             4.560968e-03\n",
       "MasVnrArea              4.550900e-03\n",
       "2ndFlrSF                4.130774e-03\n",
       "MSZoning_RM             3.422180e-03\n",
       "MoSold                  3.161457e-03\n",
       "FireplaceQu             2.777805e-03\n",
       "MSSubClass_30           2.654687e-03\n",
       "WoodDeckSF              2.609680e-03\n",
       "Fireplaces              2.249711e-03\n",
       "GarageFinish            2.059079e-03\n",
       "Exterior1st             1.920972e-03\n",
       "ExterCond               1.874365e-03\n",
       "ExterQual               1.868873e-03\n",
       "Exterior2nd             1.600355e-03\n",
       "YrSold                  1.588340e-03\n",
       "EnclosedPorch           1.522982e-03\n",
       "BsmtExposure            1.515887e-03\n",
       "BldgType_1Fam           1.463731e-03\n",
       "TotRmsAbvGrd            1.419310e-03\n",
       "GarageCond              1.398434e-03\n",
       "Neighborhood_Crawfor    1.297807e-03\n",
       "Foundation              1.185923e-03\n",
       "BedroomAbvGr            1.108117e-03\n",
       "BsmtFullBath            1.023484e-03\n",
       "KitchenAbvGr            1.018231e-03\n",
       "PavedDrive              9.915993e-04\n",
       "BsmtCond                9.093124e-04\n",
       "ScreenPorch             8.540943e-04\n",
       "Fence                   6.936339e-04\n",
       "HalfBath                6.842620e-04\n",
       "LotShape                6.390162e-04\n",
       "MSSubClass_20           6.262450e-04\n",
       "HouseStyle              6.068905e-04\n",
       "Neighborhood_OldTown    5.665710e-04\n",
       "LandContour_Lvl         5.601546e-04\n",
       "Neighborhood_Edwards    5.588245e-04\n",
       "MSZoning_RL             5.551497e-04\n",
       "RoofStyle               5.452752e-04\n",
       "ModernElectrical        5.411906e-04\n",
       "MSZoning_C              4.889553e-04\n",
       "GarageQual              4.808804e-04\n",
       "Condition1_Norm         4.799862e-04\n",
       "Functional              4.778901e-04\n",
       "BsmtFinSF2              4.252983e-04\n",
       "Neighborhood_IDOTRR     3.762099e-04\n",
       "LotConfig_Inside        3.718172e-04\n",
       "MasVnrType              3.310915e-04\n",
       "Alley                   2.781357e-04\n",
       "BsmtFinType2            2.730383e-04\n",
       "LandSlope               2.724104e-04\n",
       "Neighborhood_NWAmes     2.659738e-04\n",
       "Condition1_Artery       2.476849e-04\n",
       "MSSubClass_60           2.455787e-04\n",
       "LotConfig_Corner        2.418445e-04\n",
       "Neighborhood_NoRidge    2.223106e-04\n",
       "NewHome                 2.221784e-04\n",
       "Neighborhood_NAmes      2.150377e-04\n",
       "Neighborhood_Sawyer     1.647294e-04\n",
       "Neighborhood_CollgCr    1.557837e-04\n",
       "Condition1_RRAe         1.407395e-04\n",
       "Condition1_Feedr        1.345658e-04\n",
       "LotConfig_CulDSac       1.303466e-04\n",
       "LandContour_HLS         1.079039e-04\n",
       "MSSubClass_160          1.048632e-04\n",
       "Neighborhood_BrkSide    9.938311e-05\n",
       "MSSubClass_50           9.789232e-05\n",
       "MSSubClass_80           8.853156e-05\n",
       "LandContour_Bnk         8.176743e-05\n",
       "Neighborhood_Mitchel    8.011215e-05\n",
       "Neighborhood_NPkVill    7.711252e-05\n",
       "MSZoning_FV             7.084968e-05\n",
       "MSSubClass_90           6.924566e-05\n",
       "Neighborhood_Somerst    6.819681e-05\n",
       "Neighborhood_NridgHt    6.760779e-05\n",
       "Neighborhood_SWISU      6.313082e-05\n",
       "BsmtHalfBath            6.110764e-05\n",
       "MiscVal                 5.910237e-05\n",
       "Condition1_PosN         5.379429e-05\n",
       "LotConfig_FR2           4.948778e-05\n",
       "BldgType_Twnhs          4.934642e-05\n",
       "MSSubClass_70           4.637519e-05\n",
       "BldgType_TwnhsE         4.621750e-05\n",
       "Neighborhood_Gilbert    4.596627e-05\n",
       "Neighborhood_ClearCr    4.559160e-05\n",
       "Neighborhood_StoneBr    4.163093e-05\n",
       "MSSubClass_85           3.794513e-05\n",
       "Neighborhood_SawyerW    3.313095e-05\n",
       "MSZoning_RH             3.131768e-05\n",
       "Condition1_RRAn         2.861873e-05\n",
       "Neighborhood_Timber     2.819577e-05\n",
       "MSSubClass_120          2.680428e-05\n",
       "LandContour_Low         2.555140e-05\n",
       "MSSubClass_190          2.171355e-05\n",
       "LowQualFinSF            1.726968e-05\n",
       "MSSubClass_40           1.697926e-05\n",
       "Neighborhood_Blmngtn    1.690729e-05\n",
       "3SsnPorch               1.628194e-05\n",
       "Neighborhood_Veenker    1.350041e-05\n",
       "BldgType_2FmCon         1.298671e-05\n",
       "Neighborhood_MeadowV    1.224056e-05\n",
       "BldgType_Duplex         1.199358e-05\n",
       "Neighborhood_BrDale     1.077272e-05\n",
       "Condition1_PosA         9.127515e-06\n",
       "Condition2_Feedr        8.939911e-06\n",
       "MiscFeature             8.934555e-06\n",
       "Street_Pave             4.290417e-06\n",
       "RoofMatl                2.089718e-06\n",
       "GasHeating              1.723414e-06\n",
       "MSSubClass_45           8.167255e-07\n",
       "PoolArea                5.051745e-07\n",
       "MSSubClass_180          1.138342e-07\n",
       "dtype: float64"
      ]
     },
     "execution_count": 12,
     "metadata": {},
     "output_type": "execute_result"
    }
   ],
   "source": [
    "feat_imp_final = pd.Series(rfmod.feature_importances_, index=XTrain.columns)\n",
    "feat_imp_final=feat_imp_final[feat_imp_final>0]\n",
    "feat_imp_final.sort_values(ascending=False, inplace=True)\n",
    "feat_imp_final"
   ]
  },
  {
   "cell_type": "code",
   "execution_count": 13,
   "metadata": {},
   "outputs": [],
   "source": [
    "predmod=rfmod.predict(XTest)"
   ]
  },
  {
   "cell_type": "code",
   "execution_count": 14,
   "metadata": {},
   "outputs": [
    {
     "name": "stdout",
     "output_type": "stream",
     "text": [
      "0.91794574942216\n"
     ]
    },
    {
     "data": {
      "text/plain": [
       "0.010430539808264234"
      ]
     },
     "execution_count": 14,
     "metadata": {},
     "output_type": "execute_result"
    }
   ],
   "source": [
    "print(metrics.r2_score(yTest, predmod))\n",
    "metrics.mean_squared_error(yTest,predmod)"
   ]
  },
  {
   "cell_type": "code",
   "execution_count": 15,
   "metadata": {},
   "outputs": [
    {
     "data": {
      "text/plain": [
       "['OverallQual',\n",
       " 'GrLivArea',\n",
       " 'GarageArea',\n",
       " 'GarageCars',\n",
       " 'TotalBsmtSF',\n",
       " '1stFlrSF',\n",
       " 'BsmtFinSF1',\n",
       " 'FullBath',\n",
       " 'LotArea',\n",
       " 'YearRemodAdd',\n",
       " 'YearBuilt',\n",
       " 'OverallCond',\n",
       " 'GarageType',\n",
       " 'GarageYrBlt',\n",
       " 'BsmtQual',\n",
       " 'LotFrontage',\n",
       " 'BsmtUnfSF',\n",
       " 'BsmtFinType1',\n",
       " 'OpenPorchSF',\n",
       " 'MasVnrArea',\n",
       " '2ndFlrSF',\n",
       " 'MSZoning_RM',\n",
       " 'MoSold',\n",
       " 'FireplaceQu',\n",
       " 'MSSubClass_30',\n",
       " 'WoodDeckSF',\n",
       " 'Fireplaces',\n",
       " 'GarageFinish',\n",
       " 'Exterior1st',\n",
       " 'ExterCond',\n",
       " 'ExterQual',\n",
       " 'Exterior2nd',\n",
       " 'YrSold',\n",
       " 'EnclosedPorch',\n",
       " 'BsmtExposure',\n",
       " 'BldgType_1Fam',\n",
       " 'TotRmsAbvGrd',\n",
       " 'GarageCond',\n",
       " 'Neighborhood_Crawfor',\n",
       " 'Foundation',\n",
       " 'BedroomAbvGr',\n",
       " 'BsmtFullBath',\n",
       " 'KitchenAbvGr',\n",
       " 'PavedDrive',\n",
       " 'BsmtCond',\n",
       " 'ScreenPorch',\n",
       " 'Fence',\n",
       " 'HalfBath',\n",
       " 'LotShape',\n",
       " 'MSSubClass_20',\n",
       " 'HouseStyle',\n",
       " 'Neighborhood_OldTown',\n",
       " 'LandContour_Lvl',\n",
       " 'Neighborhood_Edwards',\n",
       " 'MSZoning_RL',\n",
       " 'RoofStyle',\n",
       " 'ModernElectrical',\n",
       " 'MSZoning_C',\n",
       " 'GarageQual',\n",
       " 'Condition1_Norm',\n",
       " 'Functional',\n",
       " 'BsmtFinSF2',\n",
       " 'Neighborhood_IDOTRR',\n",
       " 'LotConfig_Inside',\n",
       " 'MasVnrType',\n",
       " 'Alley',\n",
       " 'BsmtFinType2',\n",
       " 'LandSlope',\n",
       " 'Neighborhood_NWAmes',\n",
       " 'Condition1_Artery',\n",
       " 'MSSubClass_60',\n",
       " 'LotConfig_Corner',\n",
       " 'Neighborhood_NoRidge',\n",
       " 'NewHome',\n",
       " 'Neighborhood_NAmes',\n",
       " 'Neighborhood_Sawyer',\n",
       " 'Neighborhood_CollgCr',\n",
       " 'Condition1_RRAe',\n",
       " 'Condition1_Feedr',\n",
       " 'LotConfig_CulDSac',\n",
       " 'LandContour_HLS',\n",
       " 'MSSubClass_160',\n",
       " 'Neighborhood_BrkSide',\n",
       " 'MSSubClass_50',\n",
       " 'MSSubClass_80',\n",
       " 'LandContour_Bnk',\n",
       " 'Neighborhood_Mitchel',\n",
       " 'Neighborhood_NPkVill',\n",
       " 'MSZoning_FV',\n",
       " 'MSSubClass_90',\n",
       " 'Neighborhood_Somerst',\n",
       " 'Neighborhood_NridgHt',\n",
       " 'Neighborhood_SWISU',\n",
       " 'BsmtHalfBath',\n",
       " 'MiscVal',\n",
       " 'Condition1_PosN',\n",
       " 'LotConfig_FR2',\n",
       " 'BldgType_Twnhs',\n",
       " 'MSSubClass_70',\n",
       " 'BldgType_TwnhsE',\n",
       " 'Neighborhood_Gilbert',\n",
       " 'Neighborhood_ClearCr',\n",
       " 'Neighborhood_StoneBr',\n",
       " 'MSSubClass_85',\n",
       " 'Neighborhood_SawyerW',\n",
       " 'MSZoning_RH',\n",
       " 'Condition1_RRAn',\n",
       " 'Neighborhood_Timber',\n",
       " 'MSSubClass_120',\n",
       " 'LandContour_Low',\n",
       " 'MSSubClass_190',\n",
       " 'LowQualFinSF',\n",
       " 'MSSubClass_40',\n",
       " 'Neighborhood_Blmngtn',\n",
       " '3SsnPorch',\n",
       " 'Neighborhood_Veenker',\n",
       " 'BldgType_2FmCon',\n",
       " 'Neighborhood_MeadowV',\n",
       " 'BldgType_Duplex',\n",
       " 'Neighborhood_BrDale',\n",
       " 'Condition1_PosA',\n",
       " 'Condition2_Feedr',\n",
       " 'MiscFeature',\n",
       " 'Street_Pave',\n",
       " 'RoofMatl',\n",
       " 'GasHeating',\n",
       " 'MSSubClass_45',\n",
       " 'PoolArea',\n",
       " 'MSSubClass_180']"
      ]
     },
     "execution_count": 15,
     "metadata": {},
     "output_type": "execute_result"
    }
   ],
   "source": [
    "feat_imp_final.index.tolist()"
   ]
  },
  {
   "cell_type": "code",
   "execution_count": 19,
   "metadata": {},
   "outputs": [
    {
     "data": {
      "image/png": "[encoded data removed]",
      "text/plain": [
       "<Figure size 1440x1440 with 1 Axes>"
      ]
     },
     "metadata": {
      "needs_background": "light"
     },
     "output_type": "display_data"
    }
   ],
   "source": [
    "plt.xlabel(\"Random Forest Feature Importance\")\n",
    "plt.ylabel(\"Features\")\n",
    "plt.title(\"Random Forest Feature Selection\")\n",
    "feat_imp_final.head(25).plot.barh(x='index', y='values', rot=0, figsize=(20,20))\n",
    "plt.savefig(\"Ra Feature Selection.png\")"
   ]
  },
  {
   "cell_type": "code",
   "execution_count": 17,
   "metadata": {},
   "outputs": [
    {
     "data": {
      "text/plain": [
       "OverallQual      0.562197\n",
       "GrLivArea        0.084953\n",
       "GarageArea       0.062287\n",
       "GarageCars       0.043625\n",
       "TotalBsmtSF      0.038030\n",
       "1stFlrSF         0.030526\n",
       "BsmtFinSF1       0.013427\n",
       "FullBath         0.013054\n",
       "LotArea          0.012295\n",
       "YearRemodAdd     0.010999\n",
       "YearBuilt        0.010361\n",
       "OverallCond      0.009584\n",
       "GarageType       0.006750\n",
       "GarageYrBlt      0.006600\n",
       "BsmtQual         0.006415\n",
       "LotFrontage      0.006229\n",
       "BsmtUnfSF        0.005384\n",
       "BsmtFinType1     0.005353\n",
       "OpenPorchSF      0.004561\n",
       "MasVnrArea       0.004551\n",
       "2ndFlrSF         0.004131\n",
       "MSZoning_RM      0.003422\n",
       "MoSold           0.003161\n",
       "FireplaceQu      0.002778\n",
       "MSSubClass_30    0.002655\n",
       "dtype: float64"
      ]
     },
     "execution_count": 17,
     "metadata": {},
     "output_type": "execute_result"
    }
   ],
   "source": [
    "feat_imp_final.sort_values(ascending=False).head(25)"
   ]
  },
  {
   "cell_type": "code",
   "execution_count": 18,
   "metadata": {},
   "outputs": [
    {
     "data": {
      "text/plain": [
       "Index(['OverallQual', 'GrLivArea', 'GarageArea', 'GarageCars', 'TotalBsmtSF',\n",
       "       '1stFlrSF', 'BsmtFinSF1', 'FullBath', 'LotArea', 'YearRemodAdd',\n",
       "       'YearBuilt', 'OverallCond', 'GarageType', 'GarageYrBlt', 'BsmtQual',\n",
       "       'LotFrontage', 'BsmtUnfSF', 'BsmtFinType1', 'OpenPorchSF', 'MasVnrArea',\n",
       "       '2ndFlrSF', 'MSZoning_RM', 'MoSold', 'FireplaceQu', 'MSSubClass_30'],\n",
       "      dtype='object')"
      ]
     },
     "execution_count": 18,
     "metadata": {},
     "output_type": "execute_result"
    }
   ],
   "source": [
    "feat_imp_final.head(25).index"
   ]
  }
 ],
 "metadata": {
  "kernelspec": {
   "display_name": "Python 3",
   "language": "python",
   "name": "python3"
  },
  "language_info": {
   "codemirror_mode": {
    "name": "ipython",
    "version": 3
   },
   "file_extension": ".py",
   "mimetype": "text/x-python",
   "name": "python",
   "nbconvert_exporter": "python",
   "pygments_lexer": "ipython3",
   "version": "3.8.5"
  }
 },
 "nbformat": 4,
 "nbformat_minor": 4
}
